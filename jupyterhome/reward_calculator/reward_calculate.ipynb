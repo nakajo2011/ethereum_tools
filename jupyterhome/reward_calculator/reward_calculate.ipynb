{
 "cells": [
  {
   "cell_type": "markdown",
   "id": "fea1989d-fabf-4e44-957f-22c6b0390ee9",
   "metadata": {},
   "source": [
    "# 指定されたBeaconBlockのリワードを計算する\n",
    "\n",
    "Beacon chainのAPIは以下を参照。REST APIで提供されている。\n",
    "https://ethereum.github.io/beacon-APIs/"
   ]
  },
  {
   "cell_type": "code",
   "execution_count": 95,
   "id": "8953ec4c-0d0b-451c-b379-323f47c87eeb",
   "metadata": {},
   "outputs": [
    {
     "name": "stdout",
     "output_type": "stream",
     "text": [
      "Collecting attrdict\n",
      "  Downloading attrdict-2.0.1-py2.py3-none-any.whl (9.9 kB)\n",
      "Requirement already satisfied: six in /home/nakajo/anaconda3/lib/python3.8/site-packages (from attrdict) (1.16.0)\n",
      "Installing collected packages: attrdict\n",
      "Successfully installed attrdict-2.0.1\n"
     ]
    }
   ],
   "source": [
    "!pip install attrdict"
   ]
  },
  {
   "cell_type": "code",
   "execution_count": 2,
   "id": "7ced0417-1e9b-4467-8321-8989f39aaace",
   "metadata": {},
   "outputs": [],
   "source": [
    "import requests\n",
    "import json\n",
    "import numpy as np\n",
    "from attrdict import AttrDict \n",
    "\n",
    "class APIClient():\n",
    "    def __init__(self, host=\"http://192.168.100.4:3500\"):\n",
    "        self.host = host\n",
    "\n",
    "    def get(self, _api):\n",
    "        endpoint = \"{}/{}\".format(self.host, _api)\n",
    "        r = requests.get(endpoint)\n",
    "        res_json = r.json()\n",
    "        return AttrDict(res_json)\n",
    "    \n",
    "    def get_block(self, slot=1):\n",
    "        return self.get(f'/eth/v2/beacon/blocks/{slot}')\n",
    "    \n",
    "    def get_validators(self, slot=1):\n",
    "        # /eth/v1/beacon/states/{state_id}/validators\n",
    "        res = client.get(f\"eth/v1/beacon/states/{slot}/validators\")\n",
    "        if hasattr(res, \"data\"):\n",
    "            return res.data\n",
    "        else:\n",
    "            raise ValueError(res)"
   ]
  },
  {
   "cell_type": "code",
   "execution_count": 3,
   "id": "fe864b74-e923-44fb-90a6-06cf0e49bd71",
   "metadata": {},
   "outputs": [],
   "source": [
    "class BeaconStateEnum:\n",
    "    def __init__(self, slot=1, host=\"http://192.168.100.4:3500\"):\n",
    "        self.client = APIClient(host=host)\n",
    "        self.slot = slot\n",
    "        \n",
    "        self.validators = self.client.get_validators(self.slot)\n",
    "\n",
    "    def total_active_balance(self):\n",
    "        validator_statuses = set()\n",
    "        \n",
    "        effective_max = 32 * 10 ** 9\n",
    "        total_balance = 0\n",
    "        for val in self.validators:\n",
    "            validator_statuses.add(val.status)\n",
    "            if val.status == 'active_ongoing':\n",
    "                total_balance += int(val.validator.effective_balance)\n",
    "\n",
    "        print(f'validator_status: {validator_statuses}')\n",
    "        return total_balance\n"
   ]
  },
  {
   "cell_type": "code",
   "execution_count": 4,
   "id": "c546c5e1-1785-4ea8-9d7d-126b5e5fdf25",
   "metadata": {},
   "outputs": [
    {
     "name": "stdout",
     "output_type": "stream",
     "text": [
      "AttrDict({'data': {'genesis_time': '1606824023', 'genesis_validators_root': '0x4b363db94e286120d76eb905340fdd4e54bfe9f06bf33ff6cf5ad27f511bfe95', 'genesis_fork_version': '0x00000000'}})\n",
      "validator_status: {'withdrawal_possible', 'exited_unslashed', 'active_ongoing', 'exited_slashed', 'pending_initialized'}\n",
      "total_balance: 14384226000000000\n",
      "gwei base base_fee: 4269.00547721009\n",
      "atte reward: 11884.911248552891 + 3735.3797925588287 = 15620.29104111172\n"
     ]
    }
   ],
   "source": [
    "client = APIClient()\n",
    "print(client.get(\"eth/v1/beacon/genesis\"))\n",
    "slot_id=4985246\n",
    "\n",
    "state = BeaconStateEnum(slot = slot_id)\n",
    "total_balance = state.total_active_balance()\n",
    "print(f\"total_balance: {total_balance}\")\n",
    "\n",
    "gwei = 10 ** 9\n",
    "effective_balance = 32 * gwei \n",
    "\n",
    "sqrt_total_balance = np.sqrt(total_balance)\n",
    "base_fee_gwei = effective_balance * 64 / sqrt_total_balance / 4\n",
    "print(f'gwei base base_fee: {base_fee_gwei}')\n",
    "\n",
    "paticipate_rate = 0.928\n",
    "vote_reward = base_fee_gwei * 3 * paticipate_rate\n",
    "inclusion_delay = 1\n",
    "inclusion_reward = base_fee_gwei * 7 / 8 * (1 / inclusion_delay)\n",
    "print(f'atte reward: {vote_reward} + {inclusion_reward} = {vote_reward + inclusion_reward}')"
   ]
  },
  {
   "cell_type": "code",
   "execution_count": 28,
   "id": "de6ac0da-5e65-4959-b67d-c3d24c69cfd4",
   "metadata": {},
   "outputs": [
    {
     "name": "stdout",
     "output_type": "stream",
     "text": [
      "AttrDict({'index': '20000', 'balance': '35971795061', 'status': 'active_ongoing', 'validator': {'pubkey': '0x93e2e3750efa79391e5d9314d01b6892dec2460e0c48cc66c3f355403afda461bafe28be68bbd490affc9e932add4805', 'withdrawal_credentials': '0x00a81b8c6eec31ff6341cdccc902c0e415cad8b33a4ac20279edb974ebeb735e', 'effective_balance': '32000000000', 'slashed': False, 'activation_eligibility_epoch': '0', 'activation_epoch': '0', 'exit_epoch': '18446744073709551615', 'withdrawable_epoch': '18446744073709551615'}})\n",
      "validator_status: {'withdrawal_possible', 'exited_unslashed', 'active_ongoing', 'exited_slashed', 'pending_initialized'}\n",
      "full_atte: 14924.0\n",
      "not_sync_atte: 14391.0\n",
      "not_head_atte: 11193.0\n",
      "not_target_atte: 4264.0\n",
      "penalty_atte: 7462.0\n"
     ]
    }
   ],
   "source": [
    "EFFECTIVE_BALANCE_INCREMENT = 1_000_000_000\n",
    "BASE_REWARD_FACTOR = 64\n",
    "\n",
    "def get_base_reward_per_increment(total_active_balance):\n",
    "    return EFFECTIVE_BALANCE_INCREMENT * BASE_REWARD_FACTOR // int(np.sqrt(total_active_balance))\n",
    "\n",
    "def get_base_reward(state, validator_index):\n",
    "    \"\"\"\n",
    "    Return the base reward for the validator defined by ``index`` with respect to the current ``state``.\n",
    "    \"\"\"\n",
    "    increments = int(state.validators[validator_index].validator.effective_balance) // EFFECTIVE_BALANCE_INCREMENT\n",
    "    return increments * get_base_reward_per_increment(state.total_active_balance())\n",
    "\n",
    "validator = state.validators[20000]\n",
    "print(validator)\n",
    "base_reward = get_base_reward(state, 20000)\n",
    "HEAD_WEIGHT = 14\n",
    "SOURCE_WEIGHT = 14\n",
    "TARGET_WEIGHT = 26\n",
    "SYNC_WEIGHT = 2\n",
    "PROPOSER_WEIGHT = 8\n",
    "\n",
    "print(f\"full_atte: {base_reward * (HEAD_WEIGHT + SOURCE_WEIGHT + TARGET_WEIGHT + SYNC_WEIGHT) / 64}\")\n",
    "print(f\"not_sync_atte: {base_reward * (HEAD_WEIGHT + SOURCE_WEIGHT + TARGET_WEIGHT) / 64}\")\n",
    "print(f\"not_head_atte: {base_reward * (SOURCE_WEIGHT + TARGET_WEIGHT + SYNC_WEIGHT) / 64}\")\n",
    "print(f\"not_target_atte: {base_reward * (SOURCE_WEIGHT + SYNC_WEIGHT) / 64}\")\n",
    "\n"
   ]
  },
  {
   "cell_type": "code",
   "execution_count": 27,
   "id": "9be66d53-8cd5-4b7b-9edf-f40ecc3da4e5",
   "metadata": {},
   "outputs": [
    {
     "data": {
      "text/plain": [
       "10490"
      ]
     },
     "execution_count": 27,
     "metadata": {},
     "output_type": "execute_result"
    }
   ],
   "source": [
    "\n",
    "INACTIVITY_SCORE_BIAS = 2**2\n",
    "INACTIVITY_PENALTY_QUOTIENT_ALTAIR = 3 * 2**24\n",
    "INACTIVITY_PENALTY_QUOTIENT_BELLATRIX = 2**24\n",
    "\n",
    "index = 20000\n",
    "inactivity_score = 22\n",
    "\n",
    "penalty_numerator = int(state.validators[index].validator.effective_balance) * inactivity_score\n",
    "penalty_denominator = INACTIVITY_SCORE_BIAS * INACTIVITY_PENALTY_QUOTIENT_BELLATRIX\n",
    "penaltie = penalty_numerator // penalty_denominator\n",
    "\n",
    "penaltie"
   ]
  },
  {
   "cell_type": "code",
   "execution_count": null,
   "id": "ec6be535-dcb5-4923-8598-3a452949fe65",
   "metadata": {},
   "outputs": [],
   "source": []
  }
 ],
 "metadata": {
  "kernelspec": {
   "display_name": "Python 3 (ipykernel)",
   "language": "python",
   "name": "python3"
  },
  "language_info": {
   "codemirror_mode": {
    "name": "ipython",
    "version": 3
   },
   "file_extension": ".py",
   "mimetype": "text/x-python",
   "name": "python",
   "nbconvert_exporter": "python",
   "pygments_lexer": "ipython3",
   "version": "3.8.13"
  }
 },
 "nbformat": 4,
 "nbformat_minor": 5
}
